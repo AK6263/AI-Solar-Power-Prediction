{
  "nbformat": 4,
  "nbformat_minor": 0,
  "metadata": {
    "colab": {
      "name": "AI-Solar-Power-Prediction.ipynb",
      "provenance": [],
      "collapsed_sections": [],
      "authorship_tag": "ABX9TyMFEc9mohDYy3bHFiMPx1ec",
      "include_colab_link": true
    },
    "kernelspec": {
      "name": "python3",
      "display_name": "Python 3"
    },
    "language_info": {
      "name": "python"
    }
  },
  "cells": [
    {
      "cell_type": "markdown",
      "metadata": {
        "id": "view-in-github",
        "colab_type": "text"
      },
      "source": [
        "<a href=\"https://colab.research.google.com/github/AK6263/AI-Solar-Power-Prediction/blob/main/AI_Solar_Power_Prediction.ipynb\" target=\"_parent\"><img src=\"https://colab.research.google.com/assets/colab-badge.svg\" alt=\"Open In Colab\"/></a>"
      ]
    },
    {
      "cell_type": "code",
      "metadata": {
        "id": "i1c5KbOGATqW"
      },
      "source": [
        "!wget https://he-public-data.s3.ap-southeast-1.amazonaws.com/shell_dataset.zip\n",
        "!unzip shell_dataset.zip\n",
        "!cd dataset; unzip train.zip; unzip test.zip"
      ],
      "execution_count": null,
      "outputs": []
    },
    {
      "cell_type": "code",
      "metadata": {
        "id": "mmv63JaTBR8P"
      },
      "source": [
        "import keras\n",
        "import numpy as np\n",
        "import seaborn as sb\n",
        "import matplotlib.pyplot as plt\n",
        "import os"
      ],
      "execution_count": 2,
      "outputs": []
    },
    {
      "cell_type": "code",
      "metadata": {
        "id": "Zzu8qN69Cah4"
      },
      "source": [
        "TRAIN_PATH = \"/content/dataset/train\"\n",
        "TEST_PATH = \"/content/dataset/test\"\n",
        "\n",
        "train_img = [i for i in os.listdir(TRAIN_PATH)] \n",
        "test_img = [i for i in os.listdir(TEST_PATH)]\n"
      ],
      "execution_count": 6,
      "outputs": []
    },
    {
      "cell_type": "code",
      "metadata": {
        "id": "TiSP0m3fDs5r"
      },
      "source": [
        ""
      ],
      "execution_count": null,
      "outputs": []
    }
  ]
}