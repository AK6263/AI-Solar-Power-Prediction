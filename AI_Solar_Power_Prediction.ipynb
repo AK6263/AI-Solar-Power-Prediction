{
  "nbformat": 4,
  "nbformat_minor": 0,
  "metadata": {
    "colab": {
      "name": "AI-Solar-Power-Prediction.ipynb",
      "provenance": [],
      "authorship_tag": "ABX9TyM7F74yLeRdYd0fy6Eoowkb",
      "include_colab_link": true
    },
    "kernelspec": {
      "name": "python3",
      "display_name": "Python 3"
    },
    "language_info": {
      "name": "python"
    }
  },
  "cells": [
    {
      "cell_type": "markdown",
      "metadata": {
        "id": "view-in-github",
        "colab_type": "text"
      },
      "source": [
        "<a href=\"https://colab.research.google.com/github/AK6263/AI-Solar-Power-Prediction/blob/main/AI_Solar_Power_Prediction.ipynb\" target=\"_parent\"><img src=\"https://colab.research.google.com/assets/colab-badge.svg\" alt=\"Open In Colab\"/></a>"
      ]
    },
    {
      "cell_type": "code",
      "metadata": {
        "id": "i1c5KbOGATqW"
      },
      "source": [
        "!wget https://he-public-data.s3.ap-southeast-1.amazonaws.com/shell_dataset.zip"
      ],
      "execution_count": null,
      "outputs": []
    }
  ]
}